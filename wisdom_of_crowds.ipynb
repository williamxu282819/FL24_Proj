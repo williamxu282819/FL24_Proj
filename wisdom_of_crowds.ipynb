{
 "cells": [
  {
   "cell_type": "code",
   "execution_count": 1,
   "metadata": {},
   "outputs": [],
   "source": [
    "from load_data import *\n",
    "# from binary_architecture import *\n",
    "from multiclass_architecture import *\n",
    "from train_and_test import *\n",
    "import pandas as pd"
   ]
  },
  {
   "cell_type": "code",
   "execution_count": 2,
   "metadata": {},
   "outputs": [],
   "source": [
    "def get_images(image_random_state=0, binary=True):\n",
    "    train_images, train_labels, test_images, test_labels = load_n_images(1200, random_state=image_random_state)\n",
    "    if binary:\n",
    "        train_labels = np.array([0 if x < 5 else 1 for x in train_labels])\n",
    "        test_labels = np.array([0 if x < 5 else 1 for x in test_labels])\n",
    "    return train_images, train_labels, test_images, test_labels\n",
    "\n",
    "def one_cnn_run(args, seed, train_images, train_labels, test_images, test_labels):\n",
    "    # Set seeds for reproducibility\n",
    "    np.random.seed(seed)\n",
    "    torch.manual_seed(seed)\n",
    "\n",
    "    # Prepare data loaders\n",
    "    train_dataset = TensorDataset(torch.Tensor(train_images).unsqueeze(1), torch.Tensor(train_labels).long())\n",
    "    train_loader = DataLoader(train_dataset, batch_size=args.train_batch_size, shuffle=True)\n",
    "\n",
    "    test_dataset = TensorDataset(torch.Tensor(test_images).unsqueeze(1), torch.Tensor(test_labels).long())\n",
    "    test_loader = DataLoader(test_dataset, batch_size=args.test_batch_size, shuffle=False)\n",
    "\n",
    "    # Instantiate models\n",
    "    device = torch.device('cuda' if torch.cuda.is_available() else 'cpu')\n",
    "    encoder = Encoder(args).to(device)\n",
    "    classifier = Class_out(args).to(device)\n",
    "    conf_out = Conf_out(args).to(device)\n",
    "\n",
    "    # Define loss functions and optimizer\n",
    "    criterion_class = nn.CrossEntropyLoss()\n",
    "    criterion_conf = nn.BCELoss()  # Binary Cross Entropy for confidence prediction\n",
    "    optimizer = optim.Adam(list(encoder.parameters()) + list(classifier.parameters()) + list(conf_out.parameters()), lr=args.learning_rate)\n",
    "\n",
    "    # Run the CNN denoise training loop\n",
    "    best_model, test_z, test_conv_flat, stats, predicted_labels = CNN_denoise(\n",
    "        encoder=encoder,\n",
    "        classifier=classifier,\n",
    "        conf_out=conf_out,\n",
    "        train_loader=train_loader,\n",
    "        test_loader=test_loader,\n",
    "        criterion_class=criterion_class,\n",
    "        criterion_conf=criterion_conf,\n",
    "        optimizer=optimizer,\n",
    "        device=device\n",
    "    )\n",
    "\n",
    "    # Return or log the results\n",
    "    results = {\n",
    "        'best_model': best_model,\n",
    "        'stats': stats\n",
    "    }\n",
    "\n",
    "    # one_cnn_stats = stats\n",
    "    # print(one_cnn_stats)\n",
    "\n",
    "    # Return the results\n",
    "    return results, test_z, test_conv_flat, predicted_labels\n",
    "\n",
    "# Hyperparameters\n",
    "class Args:\n",
    "    latent_dim = 100 # this would cause PCA testing accuracy to go up\n",
    "    train_batch_size = 32\n",
    "    test_batch_size = 100\n",
    "    epochs = 5\n",
    "    learning_rate = 0.001\n",
    "\n",
    "args = Args()\n"
   ]
  },
  {
   "cell_type": "code",
   "execution_count": 104,
   "metadata": {},
   "outputs": [],
   "source": [
    "from sklearn.ensemble import RandomForestClassifier\n",
    "import numpy as np\n",
    "\n",
    "# Assuming `test_labels` is a list of true labels for the 300 samples\n",
    "# Assuming `all_test_z` is a list of 10 arrays, each of shape (300, 100)\n",
    "def RandomForest(all_test_z, test_labels, seed):\n",
    "    # Step 1: Combine all_test_z into a single array of shape (300, 1000)\n",
    "    all_test_z_combined = np.hstack(all_test_z)\n",
    "\n",
    "    np.random.seed(seed)\n",
    "    training_indices = np.random.choice(300, 225, replace=False)\n",
    "\n",
    "    # Step 2: Split the data into training (first 225 samples) and testing (last 75 samples) with corresponding labels\n",
    "    train_data = all_test_z_combined[training_indices]\n",
    "    train_labels = test_labels[training_indices]\n",
    "    test_data = all_test_z_combined[np.delete(np.arange(300), training_indices)]\n",
    "    test_labels = test_labels[np.delete(np.arange(300), training_indices)]\n",
    "\n",
    "    # Step 3: Initialize and train RandomForestClassifier\n",
    "    rf_model = RandomForestClassifier(n_estimators=100, min_samples_split=5, random_state=0)\n",
    "    rf_model.fit(train_data, train_labels)\n",
    "\n",
    "    # Step 4: Predict on test data\n",
    "    predicted_labels = rf_model.predict(test_data)\n",
    "\n",
    "    # Step 5: Evaluate the model\n",
    "    accuracy = np.mean(predicted_labels == test_labels)\n",
    "\n",
    "    # Step 6: Return confidence scores\n",
    "    confidence_scores = rf_model.predict_proba(test_data)\n",
    "    max_confidence_scores = np.max(confidence_scores, axis=1)\n",
    "    avg_confidence = np.mean(max_confidence_scores)\n",
    "    return accuracy, avg_confidence"
   ]
  },
  {
   "cell_type": "code",
   "execution_count": 107,
   "metadata": {},
   "outputs": [],
   "source": [
    "def one_crowd(train_images, train_labels, test_images, test_labels, loop_num=10, args=args):\n",
    "    # Get the images\n",
    "    best_models = []\n",
    "    model_accs = []\n",
    "    model_confs = []\n",
    "    many_labels = []\n",
    "\n",
    "    # Run the CNN denoise training loop\n",
    "    for seed in range(loop_num):\n",
    "        results, _, _, predicted_labels = one_cnn_run(args, seed, train_images, train_labels, test_images, test_labels)\n",
    "        best_models.append(results['best_model'])\n",
    "        model_accs.append(results['stats']['test_acc'])\n",
    "        model_confs.append(results['stats']['test_conf'])\n",
    "        labels = []\n",
    "        for k in range(len(predicted_labels)):\n",
    "            labels.extend(predicted_labels[k].tolist())\n",
    "        many_labels.append(np.array(labels))\n",
    "    return best_models, model_accs, model_confs, many_labels\n",
    "\n",
    "def crowd_stats(loop_num=10,crowd_num=10,binary=True):\n",
    "    # use many image random states to generate many crowds and collect their stats\n",
    "    crowd_accs = []\n",
    "    crowd_confs = []\n",
    "    crowd_acc_means = []\n",
    "    crowd_conf_means = []\n",
    "    for i in range(crowd_num):\n",
    "        train_images, train_labels, test_images, test_labels = get_images(i+42, binary=binary)\n",
    "        _, model_accs, model_confs, many_labels = one_crowd(train_images, train_labels, test_images, test_labels, loop_num)\n",
    "        crowd_accs.append(model_accs)\n",
    "        crowd_confs.append(model_confs)\n",
    "        crowd_acc_means.append(np.mean(model_accs))\n",
    "        crowd_conf_means.append(np.mean(model_confs))\n",
    "        print(f'crowd {i+1} done')\n",
    "    return crowd_accs, crowd_confs, crowd_acc_means, crowd_conf_means"
   ]
  },
  {
   "cell_type": "code",
   "execution_count": 150,
   "metadata": {},
   "outputs": [
    {
     "name": "stdout",
     "output_type": "stream",
     "text": [
      "crowd 1 done\n",
      "crowd 2 done\n",
      "crowd 3 done\n",
      "crowd 4 done\n",
      "crowd 5 done\n",
      "crowd 6 done\n",
      "crowd 7 done\n",
      "crowd 8 done\n",
      "crowd 9 done\n",
      "crowd 10 done\n",
      "crowd 11 done\n",
      "crowd 12 done\n",
      "crowd 13 done\n",
      "crowd 14 done\n",
      "crowd 15 done\n",
      "crowd 16 done\n",
      "crowd 17 done\n",
      "crowd 18 done\n",
      "crowd 19 done\n",
      "crowd 20 done\n"
     ]
    }
   ],
   "source": [
    "crowd_num = 20\n",
    "loop_num = 5\n",
    "\n",
    "list_of_rf_accs = []\n",
    "list_of_rf_confs = []\n",
    "for num in range(crowd_num):\n",
    "    all_test_z = []\n",
    "    train_images, train_labels, test_images, test_labels = get_images(image_random_state=num, binary=False)\n",
    "    for seed in range(loop_num):\n",
    "            results, test_z, _, predicted_labels = one_cnn_run(args, seed, \n",
    "                                                               train_images, train_labels, test_images, test_labels)\n",
    "            # turn into numpy array\n",
    "            test_z = test_z.detach().numpy()\n",
    "            all_test_z.append(test_z)\n",
    "    accuracy, avg_confidence = RandomForest(all_test_z, test_labels, seed=crowd_num)\n",
    "    list_of_rf_accs.append(accuracy)\n",
    "    list_of_rf_confs.append(avg_confidence)\n",
    "\n",
    "crowd_accs, crowd_confs, crowd_acc_means, crowd_conf_means = crowd_stats(loop_num=loop_num,crowd_num=crowd_num,binary=False)"
   ]
  },
  {
   "cell_type": "code",
   "execution_count": 151,
   "metadata": {},
   "outputs": [],
   "source": [
    "# create dataset crowd_acc_means, crowd_conf_means, list_of_rf_accs, list_of_rf_confs\n",
    "data = {'crowd_acc_means': crowd_acc_means, 'crowd_conf_means': crowd_conf_means, 'rf_accs': list_of_rf_accs, 'rf_confs': list_of_rf_confs,\n",
    "        'crowd_id': list(range(crowd_num))}\n",
    "df = pd.DataFrame(data)\n",
    "df.rename(columns={'crowd_acc_means': 'Crowd Accuracy', 'crowd_conf_means': 'Crowd Confidence', 'rf_accs': 'RF Accuracy', 'rf_confs': 'RF Confidence'}, inplace=True)"
   ]
  },
  {
   "cell_type": "code",
   "execution_count": 160,
   "metadata": {},
   "outputs": [
    {
     "data": {
      "image/png": "[encoded data removed]",
      "text/plain": [
       "<Figure size 800x400 with 2 Axes>"
      ]
     },
     "metadata": {},
     "output_type": "display_data"
    }
   ],
   "source": [
    "# plot a 2x2 boxplot vertical, left: crowd (accuracy, confidence), right: rf (accuracy, confidence)\n",
    "import matplotlib.pyplot as plt\n",
    "fig, axs = plt.subplots(1,2)\n",
    "df.boxplot(column=['Crowd Accuracy', 'Crowd Confidence'], ax=axs[0], color='red')\n",
    "df.boxplot(column=['RF Accuracy', 'RF Confidence'], ax=axs[1], color='blue')\n",
    "# figure size\n",
    "fig.set_size_inches(8, 4)\n",
    "# set same y-axis\n",
    "axs[0].set_ylim(0.5, 1)\n",
    "axs[1].set_ylim(0.5, 1)\n",
    "# add a special triangular marker for crowd accuracy on y=0.85 as 'majority vote'\n",
    "axs[0].plot(1, 0.85, marker='^', markersize=10, color='green', label='Majority Vote')\n",
    "plt.suptitle('Crowd vs Random Forest')\n",
    "plt.show()"
   ]
  },
  {
   "cell_type": "code",
   "execution_count": 66,
   "metadata": {},
   "outputs": [
    {
     "name": "stdout",
     "output_type": "stream",
     "text": [
      "Absolute majority vote accuracy: 0.85\n"
     ]
    }
   ],
   "source": [
    "from scipy import stats\n",
    "labels_array = np.stack(many_labels)\n",
    "\n",
    "# Use the mode function to get the majority vote across the 10 arrays for each of the 300 labels\n",
    "absolute_majority, _ = stats.mode(labels_array, axis=0)\n",
    "\n",
    "# Convert result to a 1D list of absolute majority labels\n",
    "absolute_majority = absolute_majority.flatten().tolist()\n",
    "\n",
    "# Calculate the accuracy of the absolute majority vote\n",
    "absolute_majority_acc = np.mean(np.array(absolute_majority) == test_labels)\n",
    "print(f'Absolute majority vote accuracy: {absolute_majority_acc}')"
   ]
  },
  {
   "cell_type": "code",
   "execution_count": null,
   "metadata": {},
   "outputs": [],
   "source": [
    "crowd_accs, crowd_confs, crowd_acc_means, crowd_conf_means = crowd_stats(50,20,binary=False)"
   ]
  },
  {
   "cell_type": "markdown",
   "metadata": {},
   "source": [
    "##### Looking at Crowds."
   ]
  },
  {
   "cell_type": "code",
   "execution_count": 104,
   "metadata": {},
   "outputs": [
    {
     "name": "stdout",
     "output_type": "stream",
     "text": [
      "Average test accuracy:  0.6884218999999999\n",
      "Average test confidence:  0.8220608\n",
      "Test accuracy std:  0.019825693556342505\n",
      "Test confidence std:  0.01450106857303969\n",
      "Test accuracy range:  0.721936 0.6552060000000001\n",
      "Test confidence range:  0.8514999999999999 0.799284\n"
     ]
    }
   ],
   "source": [
    "# get the average, std, min and max of the averages\n",
    "print(\"Average test accuracy: \", np.mean(crowd_acc_means))\n",
    "print(\"Average test confidence: \", np.mean(crowd_conf_means))\n",
    "# stds\n",
    "print(\"Test accuracy std: \", np.std(crowd_acc_means))\n",
    "print(\"Test confidence std: \", np.std(crowd_conf_means))\n",
    "\n",
    "# range\n",
    "print(\"Test accuracy range: \", np.max(crowd_acc_means), np.min(crowd_acc_means))\n",
    "print(\"Test confidence range: \", np.max(crowd_conf_means), np.min(crowd_conf_means))"
   ]
  },
  {
   "cell_type": "code",
   "execution_count": 107,
   "metadata": {},
   "outputs": [
    {
     "data": {
      "image/png": "[encoded data removed]",
      "text/plain": [
       "<Figure size 640x480 with 1 Axes>"
      ]
     },
     "metadata": {},
     "output_type": "display_data"
    }
   ],
   "source": [
    "# probability histogram of distribution of all individual network accuracies\n",
    "plt.hist(np.array(crowd_accs).flatten(), bins=50, color='darkblue', alpha=0.7)\n",
    "plt.title('Distribution of individual network accuracies')\n",
    "# add a x=0.78 line \"PCA benchmark\"\n",
    "plt.axvline(x=0.85, color='black', linestyle='--', label='PCA benchmark')\n",
    "# add another line \"Crowd Average\"\n",
    "plt.axvline(x=np.mean(crowd_acc_means), color='blue', linestyle='--', label='Crowd Average')\n",
    "plt.legend()\n",
    "plt.savefig('crowd_accs_mutliclass.png')\n",
    "plt.show()"
   ]
  },
  {
   "cell_type": "code",
   "execution_count": 108,
   "metadata": {},
   "outputs": [
    {
     "data": {
      "image/png": "[encoded data removed]",
      "text/plain": [
       "<Figure size 640x480 with 1 Axes>"
      ]
     },
     "metadata": {},
     "output_type": "display_data"
    }
   ],
   "source": [
    "# probability histogram of distribution of all individual network confidences\n",
    "plt.hist(np.array(crowd_confs).flatten(), bins=50, color='darkblue', alpha=0.7)\n",
    "plt.title('Distribution of individual network confidences')\n",
    "# add another line \"Crowd Average\"\n",
    "plt.axvline(x=np.mean(crowd_conf_means), color='blue', linestyle='--', label='Crowd Average')\n",
    "plt.legend()\n",
    "plt.savefig('crowd_confs_multiclass.png')\n",
    "plt.show()"
   ]
  },
  {
   "cell_type": "markdown",
   "metadata": {},
   "source": [
    "## Voting Methods"
   ]
  },
  {
   "cell_type": "code",
   "execution_count": 28,
   "metadata": {},
   "outputs": [
    {
     "name": "stdout",
     "output_type": "stream",
     "text": [
      "Accuracy on test set using PCA: 85.67%\n"
     ]
    }
   ],
   "source": [
    "from sklearn.linear_model import LogisticRegression\n",
    "from sklearn.metrics import accuracy_score\n",
    "\n",
    "# PCA-based latent space\n",
    "train_images, train_labels, test_images, test_labels = get_images(42,binary=False)\n",
    "loop_num = 10\n",
    "\n",
    "train_pca, test_pca, train_reconstructed, test_reconstructed = PCA_reduction(train_images, test_images, args.latent_dim, random_seed=0)\n",
    "# Logistic regression classifier for PCA-based latent space\n",
    "clf_pca = LogisticRegression(max_iter=loop_num)\n",
    "clf_pca.fit(train_pca, train_labels)  # Train on PCA latent space\n",
    "test_preds_pca = clf_pca.predict(test_pca)  # Predict on test set\n",
    "# Compute accuracy\n",
    "acc_pca = accuracy_score(test_labels, test_preds_pca)\n",
    "print(f\"Accuracy on test set using PCA: {acc_pca * 100:.2f}%\")"
   ]
  },
  {
   "cell_type": "markdown",
   "metadata": {},
   "source": [
    "### Failed Attempts"
   ]
  },
  {
   "cell_type": "code",
   "execution_count": null,
   "metadata": {},
   "outputs": [
    {
     "name": "stdout",
     "output_type": "stream",
     "text": [
      "Testing accuracy: 0.1767\n",
      "Average confidence of predictions: 0.1321\n"
     ]
    }
   ],
   "source": [
    "from sklearn.tree import DecisionTreeClassifier\n",
    "from sklearn.ensemble import RandomForestClassifier\n",
    "from collections import Counter\n",
    "\n",
    "def vote_majority(X):\n",
    "    # along the second axis, find the most common element\n",
    "    return np.array([Counter(column).most_common(1)[0][0] for column in X.T])\n",
    "\n",
    "# Initialize a list to store the decision trees\n",
    "decision_trees = []\n",
    "prediction_trees = []\n",
    "prediction_trees_probs = []\n",
    "\n",
    "for i in range(loop_num): \n",
    "    # # Create a new decision tree\n",
    "    tree = DecisionTreeClassifier(max_depth=3, random_state=i, max_features=8) # change max_features according to latent_dim\n",
    "    # tree = RandomForestClassifier(n_estimators=loop_num, max_depth=5, random_state=i, max_features=64)\n",
    "    # Fit the decision tree on the latent representations\n",
    "    training_array = train_zs[i]\n",
    "    tree.fit(training_array, train_labels)\n",
    "    # Append the decision tree to the list\n",
    "    decision_trees.append(tree)\n",
    "\n",
    "    # Predict the test labels using the decision tree\n",
    "    testing_array = test_zs[i]\n",
    "    \n",
    "    prediction_tree = tree.predict(testing_array)\n",
    "    prediction_trees.append(prediction_tree)\n",
    "\n",
    "    # Predict the test labels using the decision tree and calculate the probabilities\n",
    "    prediction_tree_probs = tree.predict_proba(testing_array)\n",
    "    prediction_trees_probs.append(prediction_tree_probs)\n",
    "\n",
    "prediction_trees = np.array(prediction_trees)\n",
    "prediction_trees_probs = np.array(prediction_trees_probs)\n",
    "\n",
    "# vote for the majority\n",
    "rf_predictions = vote_majority(prediction_trees)\n",
    "# calculate the accuracy\n",
    "print(f\"Testing accuracy: {accuracy_score(test_labels, rf_predictions):.4f}\")\n",
    "# Calculate the average probability for each class across all trees\n",
    "average_probs = np.mean(prediction_trees_probs, axis=0)\n",
    "# Calculate the average confidence of the predictions\n",
    "average_confidences = np.max(average_probs, axis=1)\n",
    "average_confidence = np.mean(average_confidences)\n",
    "print(f\"Average confidence of predictions: {average_confidence:.4f}\")"
   ]
  },
  {
   "cell_type": "code",
   "execution_count": null,
   "metadata": {},
   "outputs": [
    {
     "name": "stdout",
     "output_type": "stream",
     "text": [
      "Testing accuracy: 0.1333\n",
      "Average confidence of predictions: 0.1234\n"
     ]
    }
   ],
   "source": [
    "# do the same analysis using XGBoost\n",
    "\n",
    "from xgboost import XGBClassifier\n",
    "\n",
    "# Initialize a list to store the XGBoost models\n",
    "xgboost_models = []\n",
    "prediction_xgboost = []\n",
    "prediction_xgboost_probs = []\n",
    "\n",
    "for i in range(loop_num):\n",
    "    # Create a new XGBoost model\n",
    "    xgboost = XGBClassifier(n_estimators=loop_num, random_state=i, learning_rate=0.1)\n",
    "    # Fit the XGBoost model on the latent representations\n",
    "    training_array = train_zs[i]\n",
    "    xgboost.fit(training_array, train_labels)\n",
    "    # Append the XGBoost model to the list\n",
    "    xgboost_models.append(xgboost)\n",
    "\n",
    "    # Predict the test labels using the XGBoost model\n",
    "    testing_array = test_zs[i]\n",
    "    prediction_xgb = xgboost.predict(testing_array)\n",
    "    prediction_xgboost.append(prediction_xgb)\n",
    "\n",
    "    # Predict the test labels using the XGBoost model and calculate the probabilities\n",
    "    prediction_xgb_probs = xgboost.predict_proba(testing_array)\n",
    "    prediction_xgboost_probs.append(prediction_xgb_probs)\n",
    "\n",
    "prediction_xgboost = np.array(prediction_xgboost)\n",
    "prediction_xgboost_probs = np.array(prediction_xgboost_probs)\n",
    "\n",
    "# vote for the majority\n",
    "xgboost_predictions = vote_majority(prediction_xgboost)\n",
    "# calculate the accuracy\n",
    "print(f\"Testing accuracy: {accuracy_score(test_labels, xgboost_predictions):.4f}\")\n",
    "# Calculate the average probability for each class across all trees\n",
    "average_probs = np.mean(prediction_xgboost_probs, axis=0)\n",
    "# Calculate the average confidence of the predictions\n",
    "average_confidences = np.max(average_probs, axis=1)\n",
    "average_confidence = np.mean(average_confidences)\n",
    "print(f\"Average confidence of predictions: {average_confidence:.4f}\")"
   ]
  }
 ],
 "metadata": {
  "kernelspec": {
   "display_name": "base",
   "language": "python",
   "name": "python3"
  },
  "language_info": {
   "codemirror_mode": {
    "name": "ipython",
    "version": 3
   },
   "file_extension": ".py",
   "mimetype": "text/x-python",
   "name": "python",
   "nbconvert_exporter": "python",
   "pygments_lexer": "ipython3",
   "version": "3.10.11"
  }
 },
 "nbformat": 4,
 "nbformat_minor": 2
}
