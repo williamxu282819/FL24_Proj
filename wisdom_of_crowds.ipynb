{
 "cells": [
  {
   "cell_type": "code",
   "execution_count": 1,
   "metadata": {},
   "outputs": [],
   "source": [
    "from load_data import *\n",
    "# from binary_architecture import *\n",
    "from multiclass_architecture import *\n",
    "from train_and_test import *\n",
    "import pandas as pd"
   ]
  },
  {
   "cell_type": "code",
   "execution_count": 44,
   "metadata": {},
   "outputs": [],
   "source": [
    "def get_images(image_random_state=0, binary=True):\n",
    "    train_images, train_labels, _, test_images, test_labels, _ = load_n_images(1200, random_state=image_random_state)\n",
    "    if binary:\n",
    "        train_labels = np.array([0 if x < 5 else 1 for x in train_labels])\n",
    "        test_labels = np.array([0 if x < 5 else 1 for x in test_labels])\n",
    "    return train_images, train_labels, test_images, test_labels\n",
    "\n",
    "def one_cnn_run(args, seed, train_images, train_labels, test_images, test_labels):\n",
    "    # # Set seeds for reproducibility\n",
    "    # torch.manual_seed(seed)\n",
    "    # this is not used since each crowd has different 'network';\n",
    "    # in our experiments, I ensure that each network is theoretically diverse\n",
    "\n",
    "    # Prepare data loaders\n",
    "    train_dataset = TensorDataset(torch.Tensor(train_images).unsqueeze(1), torch.Tensor(train_labels).long())\n",
    "    train_loader = DataLoader(train_dataset, batch_size=args.train_batch_size, shuffle=True)\n",
    "\n",
    "    test_dataset = TensorDataset(torch.Tensor(test_images).unsqueeze(1), torch.Tensor(test_labels).long())\n",
    "    test_loader = DataLoader(test_dataset, batch_size=args.test_batch_size, shuffle=False)\n",
    "\n",
    "    # Instantiate models\n",
    "    device = torch.device('cuda' if torch.cuda.is_available() else 'cpu')\n",
    "    encoder = Encoder(args).to(device)\n",
    "    classifier = Class_out(args).to(device)\n",
    "    conf_out = Conf_out(args).to(device)\n",
    "\n",
    "    # Define loss functions and optimizer\n",
    "    criterion_class = nn.CrossEntropyLoss()\n",
    "    criterion_conf = nn.BCELoss()  # Binary Cross Entropy for confidence prediction\n",
    "    optimizer = optim.Adam(list(encoder.parameters()) + list(classifier.parameters()) + list(conf_out.parameters()), lr=args.learning_rate)\n",
    "\n",
    "    # Run the CNN denoise training loop\n",
    "    best_model, test_z, stats, predicted_labels, true_labels, all_class_preds, all_conf_preds = CNN_denoise(\n",
    "        encoder=encoder,\n",
    "        classifier=classifier,\n",
    "        conf_out=conf_out,\n",
    "        train_loader=train_loader,\n",
    "        test_loader=test_loader,\n",
    "        criterion_class=criterion_class,\n",
    "        criterion_conf=criterion_conf,\n",
    "        optimizer=optimizer,\n",
    "        device=device\n",
    "    )\n",
    "\n",
    "    # Return or log the results\n",
    "    results = {\n",
    "        'best_model': best_model,\n",
    "        'stats': stats\n",
    "    }\n",
    "\n",
    "    # one_cnn_stats = stats\n",
    "    # print(one_cnn_stats)\n",
    "\n",
    "    # Return the results\n",
    "    return results, test_z, predicted_labels, true_labels, all_class_preds, all_conf_preds\n",
    "\n",
    "# Hyperparameters\n",
    "class Args:\n",
    "    latent_dim = 100\n",
    "    train_batch_size = 32\n",
    "    test_batch_size = 100\n",
    "    epochs = 5\n",
    "    learning_rate = 0.001\n",
    "\n",
    "args = Args()\n",
    "\n",
    "def clean_one_cn(all_class_preds, all_conf_preds, true_labels, predicted_labels):\n",
    "    # column names: digit 0-9 + 'cnn'\n",
    "    class_preds = pd.DataFrame(columns=[str(i) + '_cnn' for i in range(10)])\n",
    "    class_confs = []\n",
    "    for i in [0,1,2]:\n",
    "        batch = np.array(all_class_preds[i])\n",
    "        batch_conf = np.array(all_conf_preds[i])\n",
    "        label = np.array(true_labels[i])\n",
    "        pred = np.array(predicted_labels[i])\n",
    "        # convert each item (a list of one item) to just an item\n",
    "        batch_conf = [x[0] for x in batch_conf]\n",
    "        batch_df = pd.DataFrame(batch, columns=[str(i) + '_cnn' for i in range(10)])\n",
    "        batch_df = batch_df.apply(lambda x: np.exp(x) / np.sum(np.exp(x)), axis=1)\n",
    "        batch_df['true_label'] = label\n",
    "        batch_df['predicted_label_cnn'] = pred\n",
    "        class_preds = pd.concat([class_preds, batch_df]) \n",
    "        class_confs.extend(batch_conf)\n",
    "    class_preds['confidence_cnn'] = class_confs\n",
    "    return class_preds.reset_index(drop=True)"
   ]
  },
  {
   "cell_type": "code",
   "execution_count": 31,
   "metadata": {},
   "outputs": [],
   "source": [
    "from sklearn.ensemble import RandomForestClassifier\n",
    "from sklearn.ensemble import AdaBoostClassifier\n",
    "import numpy as np\n",
    "\n",
    "def clean_one_rf(confidence_scores, predicted_labels, test_labels, training_indices):\n",
    "    rf_preds = pd.DataFrame(confidence_scores, columns=[str(i) + '_rf' for i in range(10)])\n",
    "    rf_preds['predicted_label_rf'] = predicted_labels\n",
    "    # use the training indices to get the true labels\n",
    "    rf_preds['true_label'] = test_labels[np.delete(np.arange(300), training_indices)]\n",
    "    rf_preds['confidence_rf'] = np.max(confidence_scores, axis=1)\n",
    "    # generate a list of 0-299, then remove indices that were used for training\n",
    "    list_of_indices = np.arange(300)\n",
    "    list_of_indices = np.delete(list_of_indices, training_indices)\n",
    "    rf_preds['testing_index'] = list_of_indices \n",
    "    return rf_preds\n",
    "\n",
    "# Assuming `test_labels` is a list of true labels for the 300 samples\n",
    "# Assuming `all_test_z` is a list of 10 arrays, each of shape (300, 100)\n",
    "def RandomForest(all_test_z, test_labels, seed):\n",
    "    # Step 1: Combine all_test_z into a single array of shape (300, 1000)\n",
    "    all_test_z_combined = np.hstack(all_test_z)\n",
    "\n",
    "    np.random.seed(seed)\n",
    "    training_indices = np.random.choice(300, 225, replace=False)\n",
    "\n",
    "    # Step 2: Split the data into training (first 225 samples) and testing (last 75 samples) with corresponding labels\n",
    "    train_data = all_test_z_combined[training_indices]\n",
    "    train_labels = test_labels[training_indices]\n",
    "    test_data = all_test_z_combined[np.delete(np.arange(300), training_indices)]\n",
    "    test_labels_rf = test_labels[np.delete(np.arange(300), training_indices)]\n",
    "\n",
    "    # Step 3: Initialize and train RandomForestClassifier\n",
    "    rf_model = RandomForestClassifier(n_estimators=100, min_samples_split=5, random_state=0)\n",
    "    rf_model.fit(train_data, train_labels)\n",
    "\n",
    "    # Step 4: Predict on test data\n",
    "    predicted_labels = rf_model.predict(test_data)\n",
    "\n",
    "    # Step 5: Evaluate the model\n",
    "    accuracy = np.mean(predicted_labels == test_labels_rf)\n",
    "\n",
    "    # Step 6: Return confidence scores\n",
    "    confidence_scores = rf_model.predict_proba(test_data)\n",
    "    max_confidence_scores = np.max(confidence_scores, axis=1)\n",
    "    avg_confidence = np.mean(max_confidence_scores)\n",
    "    rf_preds = clean_one_rf(confidence_scores, predicted_labels, test_labels, training_indices)\n",
    "    return accuracy, avg_confidence, rf_preds"
   ]
  },
  {
   "cell_type": "code",
   "execution_count": null,
   "metadata": {},
   "outputs": [
    {
     "name": "stdout",
     "output_type": "stream",
     "text": [
      "crowd 1 done\n",
      "crowd 2 done\n",
      "crowd 3 done\n",
      "crowd 4 done\n",
      "crowd 5 done\n",
      "crowd 6 done\n",
      "crowd 7 done\n",
      "crowd 8 done\n",
      "crowd 9 done\n",
      "crowd 10 done\n",
      "crowd 11 done\n",
      "crowd 12 done\n",
      "crowd 13 done\n",
      "crowd 14 done\n",
      "crowd 15 done\n",
      "crowd 16 done\n",
      "crowd 17 done\n",
      "crowd 18 done\n",
      "crowd 19 done\n",
      "crowd 20 done\n"
     ]
    }
   ],
   "source": [
    "from scipy import stats\n",
    "\n",
    "crowd_num = 20\n",
    "loop_num = 15\n",
    "\n",
    "list_of_rf_accs_rf = []\n",
    "list_of_rf_confs_rf = []\n",
    "list_of_rf_accs_ab = []\n",
    "list_of_rf_confs_ab = []\n",
    "\n",
    "crowd_acc_means = []\n",
    "crowd_conf_means = []\n",
    "majority_accs = []\n",
    "crowds = pd.DataFrame()\n",
    "\n",
    "for num in range(crowd_num):\n",
    "    all_test_z = []\n",
    "    # get_images could be easily set to no random_state to get the same images every time\n",
    "    train_images, train_labels, test_images, test_labels = get_images(image_random_state=0, binary=False)\n",
    "    model_accs = []\n",
    "    model_confs = []\n",
    "    many_labels = []\n",
    "    all_cnn_preds = pd.DataFrame()\n",
    "\n",
    "    for seed in range(loop_num):\n",
    "        results, test_z, predicted_labels, true_labels, all_class_preds, all_conf_preds = one_cnn_run(\n",
    "                args, seed, train_images, train_labels, test_images, test_labels)\n",
    "        # get the cleaned predictions\n",
    "        cnn_preds = clean_one_cn(all_class_preds, all_conf_preds, true_labels, predicted_labels)\n",
    "        cnn_preds['network'] = seed + 1\n",
    "        cnn_preds['testing_index'] = np.arange(300)\n",
    "        all_cnn_preds = pd.concat([all_cnn_preds, cnn_preds], axis=0)\n",
    "\n",
    "        # store the overall accuracy and confidence\n",
    "        model_accs.append(results['stats']['test_acc'])\n",
    "        model_confs.append(results['stats']['test_conf'])\n",
    "\n",
    "        # turn into numpy array\n",
    "        test_z = test_z.detach().numpy()\n",
    "        all_test_z.append(test_z)\n",
    "        # get the predicted labels\n",
    "        labels = []\n",
    "        for k in range(len(predicted_labels)):\n",
    "            labels.extend(predicted_labels[k].tolist())\n",
    "        many_labels.append(np.array(labels))\n",
    "    # majority vote\n",
    "    labels_array = np.stack(many_labels)\n",
    "    absolute_majority, _ = stats.mode(labels_array, axis=0)\n",
    "    absolute_majority = absolute_majority.flatten().tolist()\n",
    "    absolute_majority_acc = np.mean(np.array(absolute_majority) == test_labels)\n",
    "    majority_accs.append(absolute_majority_acc)\n",
    "\n",
    "    # all cnns\n",
    "    all_cnn_preds['crowd'] = num + 1\n",
    "\n",
    "    # random forest\n",
    "    accuracy_rf, avg_confidence_rf, rf_preds = RandomForest(\n",
    "         all_test_z, test_labels, seed=num)\n",
    "    list_of_rf_accs_rf.append(accuracy_rf)\n",
    "    list_of_rf_confs_rf.append(avg_confidence_rf)\n",
    "\n",
    "    # merge the random forest predictions with the cnn predictions\n",
    "    # note that there would be some missing values in the random forest predictions\n",
    "    # because some indices were used for training\n",
    "    cnn_and_rf_preds = all_cnn_preds.merge(rf_preds, on='testing_index', how='left')\n",
    "    crowds = pd.concat([crowds, cnn_and_rf_preds], axis=0)\n",
    "    # collect the results for crowd\n",
    "    crowd_acc_means.append(np.mean(model_accs))\n",
    "    crowd_conf_means.append(np.mean(model_confs))\n",
    "\n",
    "    print(f'crowd {num+1} done')"
   ]
  },
  {
   "cell_type": "code",
   "execution_count": 54,
   "metadata": {},
   "outputs": [],
   "source": [
    "# rename 'testing_index' to 'image'\n",
    "crowds.rename(columns={'testing_index': 'image'}, inplace=True)\n",
    "# drop true_label_y and rename true_label_x to true_label\n",
    "crowds.drop(columns='true_label_y', inplace=True)\n",
    "crowds.rename(columns={'true_label_x': 'true_label'}, inplace=True)\n",
    "crowds = crowds[['network', 'crowd', 'image', 'true_label', '0_cnn', '1_cnn', '2_cnn', '3_cnn', \n",
    "                 '4_cnn', '5_cnn', '6_cnn', '7_cnn', '8_cnn', '9_cnn', \n",
    "                 'predicted_label_cnn', 'confidence_cnn', '0_rf', '1_rf', '2_rf', '3_rf', \n",
    "                 '4_rf', '5_rf', '6_rf', '7_rf', '8_rf', '9_rf', \n",
    "                 'predicted_label_rf', 'confidence_rf']]\n",
    "\n",
    "# for columns '0_cnn', '1_cnn', '2_cnn', '3_cnn', '4_cnn', '5_cnn', '6_cnn', '7_cnn', '8_cnn', '9_cnn'\n",
    "# produce 'max_cnn' and 'max_cnn_label'\n",
    "max_cnn = crowds[['0_cnn', '1_cnn', '2_cnn', '3_cnn', '4_cnn', '5_cnn', '6_cnn', '7_cnn', '8_cnn', '9_cnn']].max(axis=1)\n",
    "max_cnn_label = crowds[['0_cnn', '1_cnn', '2_cnn', '3_cnn', '4_cnn', '5_cnn', '6_cnn', '7_cnn', '8_cnn', '9_cnn']].idxmax(axis=1).str.replace('_cnn', '')\n",
    "max_cnn_label = max_cnn_label.astype(float)\n",
    "crowds['max_cnn'] = max_cnn\n",
    "crowds['max_cnn_label'] = max_cnn_label\n",
    "# rename confidence_cnn to cnn_model_confidence, max_cnn to confidence_cnn\n",
    "crowds.rename(columns={'confidence_cnn': 'cnn_model_confidence', 'max_cnn': 'confidence_cnn'}, inplace=True)\n",
    "crowds.drop(columns=['max_cnn_label'], inplace=True)"
   ]
  },
  {
   "cell_type": "code",
   "execution_count": 55,
   "metadata": {},
   "outputs": [],
   "source": [
    "# create dataset crowd_acc_means, crowd_conf_means, list_of_rf_accs, list_of_rf_confs\n",
    "data = {'crowd_acc_means': crowd_acc_means, 'crowd_conf_means': crowd_conf_means, 'rf_accs': list_of_rf_accs_rf, 'rf_confs': list_of_rf_confs_rf,\n",
    "        'accs_majority': majority_accs, 'crowd_id': list(range(crowd_num))}\n",
    "df = pd.DataFrame(data)\n",
    "df.rename(columns={'crowd_acc_means': 'Crowd Accuracy', 'crowd_conf_means': 'Crowd Confidence', 'rf_accs': 'RF Accuracy', 'rf_confs': 'RF Confidence',\n",
    "                         'accs_majority': 'Majority Vote Accuracy'}, inplace=True)\n",
    "\n",
    "# groupby crowd, calculate average cnn_confidence\n",
    "crowd_conf_means = crowds.groupby('crowd')['confidence_cnn'].mean().reset_index()\n",
    "crowd_conf_means['crowd'] = crowd_conf_means['crowd'] - 1\n",
    "crowd_conf_means.rename(columns={'crowd':'crowd_id'}, inplace=True)\n",
    "\n",
    "df_stats = df.merge(crowd_conf_means, on='crowd_id', how='left')\n",
    "df_stats.rename(columns={'confidence_cnn': 'Crowd Confidence',\n",
    "                         'Crowd Confidence': 'CNN Model Confidence'}, inplace=True)\n",
    "df_stats['Crowd Confidence'] = df_stats['Crowd Confidence'].astype(float)"
   ]
  },
  {
   "cell_type": "code",
   "execution_count": 35,
   "metadata": {},
   "outputs": [
    {
     "data": {
      "text/plain": [
       "Crowd Accuracy            0.728333\n",
       "CNN Model Confidence      0.820303\n",
       "RF Accuracy               0.846667\n",
       "RF Confidence             0.688105\n",
       "Majority Vote Accuracy    0.855000\n",
       "crowd_id                  0.500000\n",
       "Crowd Confidence          0.731750\n",
       "dtype: float64"
      ]
     },
     "execution_count": 35,
     "metadata": {},
     "output_type": "execute_result"
    }
   ],
   "source": [
    "df_stats.mean()"
   ]
  },
  {
   "cell_type": "code",
   "execution_count": null,
   "metadata": {},
   "outputs": [],
   "source": [
    "# rearrange the columns:\n",
    "crowds.to_csv('crowds.csv', index=False)\n",
    "df_stats.to_csv('crowd_summary_stats.csv', index=False)"
   ]
  },
  {
   "cell_type": "code",
   "execution_count": null,
   "metadata": {},
   "outputs": [],
   "source": [
    "df_stats = pd.read_csv('crowd_summary_stats.csv')"
   ]
  },
  {
   "cell_type": "code",
   "execution_count": 56,
   "metadata": {},
   "outputs": [
    {
     "data": {
      "image/png": "[encoded data removed]",
      "text/plain": [
       "<Figure size 800x400 with 2 Axes>"
      ]
     },
     "metadata": {},
     "output_type": "display_data"
    }
   ],
   "source": [
    "# plot a 2x2 boxplot vertical, left: crowd (accuracy, confidence), right: rf (accuracy, confidence)\n",
    "import matplotlib.pyplot as plt\n",
    "fig, axs = plt.subplots(1,2)\n",
    "df_stats.boxplot(column=['Crowd Accuracy', 'Crowd Confidence'], ax=axs[0], color='red')\n",
    "df_stats.boxplot(column=['RF Accuracy', 'RF Confidence'], ax=axs[1], color='blue')\n",
    "#df_stats.boxplot(column=['Majority Vote Accuracy'], ax=axs[1], color='green')\n",
    "# figure size\n",
    "fig.set_size_inches(8, 4)\n",
    "# set same y-axis\n",
    "axs[0].set_ylim(0.5, 1)\n",
    "axs[1].set_ylim(0.5, 1)\n",
    "#axs[2].set_ylim(0.5, 1)\n",
    "# plt.suptitle('Crowd (Simple Average/Majority) and Random Forest Comparison')\n",
    "# plt.savefig('RFCrowd_1200_ModelConfidence.png')\n",
    "plt.show()"
   ]
  },
  {
   "cell_type": "markdown",
   "metadata": {},
   "source": [
    "##### Looking at Crowds."
   ]
  },
  {
   "cell_type": "code",
   "execution_count": 19,
   "metadata": {},
   "outputs": [
    {
     "name": "stdout",
     "output_type": "stream",
     "text": [
      "Average test accuracy:  0.6793399999999999\n",
      "Average test confidence:  3.862862318754196\n",
      "Test accuracy std:  0.0\n",
      "Test confidence std:  crowd_id          4.320494\n",
      "confidence_cnn    0.000000\n",
      "dtype: float64\n",
      "Test accuracy range:  0.6793399999999999 0.6793399999999999\n",
      "Test confidence range:  14.0 0.0\n"
     ]
    }
   ],
   "source": [
    "# get the average, std, min and max of the averages\n",
    "print(\"Average test accuracy: \", np.mean(crowd_acc_means))\n",
    "print(\"Average test confidence: \", np.mean(crowd_conf_means))\n",
    "# stds\n",
    "print(\"Test accuracy std: \", np.std(crowd_acc_means))\n",
    "print(\"Test confidence std: \", np.std(crowd_conf_means))\n",
    "\n",
    "# range\n",
    "print(\"Test accuracy range: \", np.max(crowd_acc_means), np.min(crowd_acc_means))\n",
    "print(\"Test confidence range: \", np.max(crowd_conf_means), np.min(crowd_conf_means))"
   ]
  },
  {
   "cell_type": "markdown",
   "metadata": {},
   "source": [
    "## PCA"
   ]
  },
  {
   "cell_type": "code",
   "execution_count": 28,
   "metadata": {},
   "outputs": [
    {
     "name": "stdout",
     "output_type": "stream",
     "text": [
      "Accuracy on test set using PCA: 85.67%\n"
     ]
    }
   ],
   "source": [
    "from sklearn.linear_model import LogisticRegression\n",
    "from sklearn.metrics import accuracy_score\n",
    "\n",
    "# PCA-based latent space\n",
    "train_images, train_labels, test_images, test_labels = get_images(42,binary=False)\n",
    "loop_num = 10\n",
    "\n",
    "train_pca, test_pca, train_reconstructed, test_reconstructed = PCA_reduction(train_images, test_images, args.latent_dim, random_seed=0)\n",
    "# Logistic regression classifier for PCA-based latent space\n",
    "clf_pca = LogisticRegression(max_iter=loop_num)\n",
    "clf_pca.fit(train_pca, train_labels)  # Train on PCA latent space\n",
    "test_preds_pca = clf_pca.predict(test_pca)  # Predict on test set\n",
    "# Compute accuracy\n",
    "acc_pca = accuracy_score(test_labels, test_preds_pca)\n",
    "print(f\"Accuracy on test set using PCA: {acc_pca * 100:.2f}%\")"
   ]
  }
 ],
 "metadata": {
  "kernelspec": {
   "display_name": "base",
   "language": "python",
   "name": "python3"
  },
  "language_info": {
   "codemirror_mode": {
    "name": "ipython",
    "version": 3
   },
   "file_extension": ".py",
   "mimetype": "text/x-python",
   "name": "python",
   "nbconvert_exporter": "python",
   "pygments_lexer": "ipython3",
   "version": "3.10.11"
  }
 },
 "nbformat": 4,
 "nbformat_minor": 2
}
