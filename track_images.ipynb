{
 "cells": [
  {
   "cell_type": "code",
   "execution_count": 2,
   "metadata": {},
   "outputs": [],
   "source": [
    "from load_data import *\n",
    "import pandas as pd"
   ]
  },
  {
   "cell_type": "code",
   "execution_count": 3,
   "metadata": {},
   "outputs": [],
   "source": [
    "crowds = pd.read_csv(\"./crowds.csv\")"
   ]
  },
  {
   "cell_type": "code",
   "execution_count": 10,
   "metadata": {},
   "outputs": [],
   "source": [
    "indices = pd.DataFrame()\n",
    "\n",
    "for random_state in range(100):\n",
    "    _, _, _, _, _, test_indices = load_n_images(1200, random_state=random_state)\n",
    "    crowd = random_state + 1\n",
    "    image = np.arange(300)\n",
    "    indices = pd.concat([indices, pd.DataFrame({\"crowd\": [crowd] * len(test_indices), \n",
    "                                                'image': image,\n",
    "                                                \"MNIST_index\": test_indices})])"
   ]
  },
  {
   "cell_type": "code",
   "execution_count": 15,
   "metadata": {},
   "outputs": [],
   "source": [
    "crowd_indices = pd.merge(crowds, indices, on=[\"crowd\", \"image\"])"
   ]
  },
  {
   "cell_type": "code",
   "execution_count": 21,
   "metadata": {},
   "outputs": [],
   "source": [
    "crowd_indices.sort_values(by=[\"crowd\", \"network\", \"image\"], inplace=True)"
   ]
  },
  {
   "cell_type": "code",
   "execution_count": 28,
   "metadata": {},
   "outputs": [],
   "source": [
    "crowd_indices.to_csv(\"crowd.csv\", index=False)"
   ]
  },
  {
   "cell_type": "code",
   "execution_count": 27,
   "metadata": {},
   "outputs": [],
   "source": [
    "def trace_image_MNIST(index):\n",
    "    # Access the original index of the first training image\n",
    "    print(\"Original index of the first training image:\", index)\n",
    "\n",
    "    # For example, retrieve the actual image using the original dataset\n",
    "    directory = './MNIST/'\n",
    "    image_directory = directory + 'train-images.idx3-ubyte'\n",
    "    images = load_images(image_directory)\n",
    "\n",
    "    # Use the index to get the corresponding image\n",
    "    original_image = images[index]\n",
    "\n",
    "    # Display the original image\n",
    "    plt.imshow(original_image, cmap='gray')\n",
    "    plt.title(f\"Original Image at Index {index}\")\n",
    "    plt.show()"
   ]
  }
 ],
 "metadata": {
  "kernelspec": {
   "display_name": "base",
   "language": "python",
   "name": "python3"
  },
  "language_info": {
   "codemirror_mode": {
    "name": "ipython",
    "version": 3
   },
   "file_extension": ".py",
   "mimetype": "text/x-python",
   "name": "python",
   "nbconvert_exporter": "python",
   "pygments_lexer": "ipython3",
   "version": "3.10.11"
  }
 },
 "nbformat": 4,
 "nbformat_minor": 2
}
