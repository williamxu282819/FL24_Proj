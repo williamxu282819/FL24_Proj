{
 "cells": [
  {
   "cell_type": "code",
   "execution_count": 1,
   "metadata": {},
   "outputs": [],
   "source": [
    "from load_data import *\n",
    "import pandas as pd"
   ]
  },
  {
   "cell_type": "code",
   "execution_count": 3,
   "metadata": {},
   "outputs": [],
   "source": [
    "crowds = pd.read_csv(\"./crowd_summary_stat/same_images/crowds.csv\")"
   ]
  },
  {
   "cell_type": "code",
   "execution_count": 2,
   "metadata": {},
   "outputs": [],
   "source": [
    "indices = pd.DataFrame()\n",
    "\n",
    "for random_state in range(100):\n",
    "    _, _, _, _, _, test_indices = load_n_images(1200, random_state=0)\n",
    "    crowd = random_state + 1\n",
    "    image = np.arange(300)\n",
    "    indices = pd.concat([indices, pd.DataFrame({\"crowd\": [crowd] * len(test_indices), \n",
    "                                                'image': image,\n",
    "                                                \"MNIST_index\": test_indices})])"
   ]
  },
  {
   "cell_type": "code",
   "execution_count": 4,
   "metadata": {},
   "outputs": [],
   "source": [
    "crowd_indices = pd.merge(crowds, indices, on=[\"crowd\", \"image\"])"
   ]
  },
  {
   "cell_type": "code",
   "execution_count": 5,
   "metadata": {},
   "outputs": [],
   "source": [
    "crowd_indices.sort_values(by=[\"crowd\", \"network\", \"image\"], inplace=True)"
   ]
  },
  {
   "cell_type": "code",
   "execution_count": 6,
   "metadata": {},
   "outputs": [],
   "source": [
    "crowd_indices.to_csv(\"./crowd_summary_stat/same_images/crowds.csv\", index=False)"
   ]
  },
  {
   "cell_type": "code",
   "execution_count": 27,
   "metadata": {},
   "outputs": [],
   "source": [
    "def trace_image_MNIST(index):\n",
    "    # Access the original index of the first training image\n",
    "    print(\"Original index of the first training image:\", index)\n",
    "\n",
    "    # For example, retrieve the actual image using the original dataset\n",
    "    directory = './MNIST/'\n",
    "    image_directory = directory + 'train-images.idx3-ubyte'\n",
    "    images = load_images(image_directory)\n",
    "\n",
    "    # Use the index to get the corresponding image\n",
    "    original_image = images[index]\n",
    "\n",
    "    # Display the original image\n",
    "    plt.imshow(original_image, cmap='gray')\n",
    "    plt.title(f\"Original Image at Index {index}\")\n",
    "    plt.show()"
   ]
  },
  {
   "cell_type": "code",
   "execution_count": 11,
   "metadata": {},
   "outputs": [],
   "source": [
    "first_crowd_images = crowds['MNIST_index'][0:100]"
   ]
  },
  {
   "cell_type": "code",
   "execution_count": 16,
   "metadata": {},
   "outputs": [],
   "source": [
    "nodup = crowds[['crowd','MNIST_index']].drop_duplicates()"
   ]
  },
  {
   "cell_type": "code",
   "execution_count": 12,
   "metadata": {},
   "outputs": [],
   "source": [
    "# for first_crowd_image in first_crowd_images\n",
    "# actually find the images in MNIST dataset and save it to a folder\n",
    "\n",
    "for i, index in enumerate(first_crowd_images):\n",
    "    directory = './MNIST/'\n",
    "    image_directory = directory + 'train-images.idx3-ubyte'\n",
    "    images = load_images(image_directory)\n",
    "    original_image = images[index]\n",
    "    plt.imshow(original_image, cmap='gray')\n",
    "    plt.title(f\"Original Image at Index {index}\")\n",
    "    plt.savefig(f\"./crowd_images/MNIST_Image_{index}.png\")\n",
    "    plt.close()"
   ]
  }
 ],
 "metadata": {
  "kernelspec": {
   "display_name": "base",
   "language": "python",
   "name": "python3"
  },
  "language_info": {
   "codemirror_mode": {
    "name": "ipython",
    "version": 3
   },
   "file_extension": ".py",
   "mimetype": "text/x-python",
   "name": "python",
   "nbconvert_exporter": "python",
   "pygments_lexer": "ipython3",
   "version": "3.10.11"
  }
 },
 "nbformat": 4,
 "nbformat_minor": 2
}
